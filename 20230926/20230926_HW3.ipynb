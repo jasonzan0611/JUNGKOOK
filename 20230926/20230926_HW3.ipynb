{
  "nbformat": 4,
  "nbformat_minor": 0,
  "metadata": {
    "colab": {
      "provenance": []
    },
    "kernelspec": {
      "name": "python3",
      "display_name": "Python 3"
    },
    "language_info": {
      "name": "python"
    }
  },
  "cells": [
    {
      "cell_type": "code",
      "execution_count": null,
      "metadata": {
        "colab": {
          "base_uri": "https://localhost:8080/"
        },
        "id": "aDmApQXMpO0X",
        "outputId": "a6cae372-45ae-429e-80c7-9cc2cad1506a"
      },
      "outputs": [
        {
          "output_type": "stream",
          "name": "stdout",
          "text": [
            "I'm a student\n"
          ]
        }
      ],
      "source": [
        "print(\"I'm a student\")"
      ]
    },
    {
      "cell_type": "code",
      "source": [
        "a = float(input(\"x1=\"))\n",
        "b = float(input(\"y1=\"))\n",
        "c = float(input(\"x2=\"))\n",
        "d = float(input(\"y2=\"))\n",
        "e = ((a - c)**2+(b - d)**2)**0.5\n",
        "print(\"兩點的距離是\",e)"
      ],
      "metadata": {
        "colab": {
          "base_uri": "https://localhost:8080/"
        },
        "id": "7g2y32kGpZJm",
        "outputId": "dbcd1201-b5e2-42e4-a770-7dd9f8202b34"
      },
      "execution_count": 4,
      "outputs": [
        {
          "output_type": "stream",
          "name": "stdout",
          "text": [
            "x1=3\n",
            "y1=4\n",
            "x2=0\n",
            "y2=0\n",
            "兩點的距離是 5.0\n"
          ]
        }
      ]
    },
    {
      "cell_type": "code",
      "source": [
        "l = float(input(\"身高(m)\"))\n",
        "m = float(input(\"體重(kg)\"))\n",
        "b = m/(l*l)\n",
        "print(int(b<18.5))"
      ],
      "metadata": {
        "colab": {
          "base_uri": "https://localhost:8080/"
        },
        "id": "_XXIlknrPVtE",
        "outputId": "fab828d9-3f92-4a13-fbc5-c06675aa76ae"
      },
      "execution_count": 5,
      "outputs": [
        {
          "output_type": "stream",
          "name": "stdout",
          "text": [
            "身高(m)1.702\n",
            "體重(kg)51\n",
            "1\n"
          ]
        }
      ]
    }
  ]
}