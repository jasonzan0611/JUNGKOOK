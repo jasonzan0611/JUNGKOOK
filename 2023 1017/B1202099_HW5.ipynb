{
  "cells": [
    {
      "cell_type": "code",
      "execution_count": null,
      "metadata": {
        "colab": {
          "base_uri": "https://localhost:8080/"
        },
        "id": "bhVnO45Xy93L",
        "outputId": "32ed84c6-b41d-4aca-ede6-00a265ebeae5"
      },
      "outputs": [
        {
          "name": "stdout",
          "output_type": "stream",
          "text": [
            "        *\n",
            "       ***\n",
            "      *****\n",
            "     *******\n",
            "    *********\n",
            "   ***********\n",
            "  *************\n",
            " ***************\n",
            "*****************\n",
            "       ***\n",
            "       ***\n",
            "       ***\n",
            "       ***\n",
            "       ***\n"
          ]
        }
      ],
      "source": [
        "a=9\n",
        "for i in range(1,a+1):\n",
        "  b=\" \"*(a-i)\n",
        "  c=\"*\"*(2*i-1)\n",
        "  print(b+c)\n",
        "for i in range(5):\n",
        "  d=' '*(a-2)\n",
        "  e='*'*3\n",
        "  print(d+e)"
      ]
    },
    {
      "cell_type": "code",
      "execution_count": null,
      "metadata": {
        "colab": {
          "background_save": true,
          "base_uri": "https://localhost:8080/"
        },
        "id": "_LaT4UxjPZu9",
        "outputId": "441a66c1-9e27-4cd6-dedc-c99a60776c32"
      },
      "outputs": [
        {
          "name": "stdout",
          "output_type": "stream",
          "text": [
            "答案： [8, 1, 3, 5]\n",
            "2456 : 0A1B\n",
            "7784 : 0A1B\n",
            "3309 : 0A2B\n",
            "8137 : 3A0B\n"
          ]
        }
      ],
      "source": [
        "import random\n",
        "answer = random.sample(range(1, 10), 4)\n",
        "print(\"答案：\",answer)\n",
        "a = b = n = num = 0\n",
        "while a!=4:\n",
        "    a = b = n = 0\n",
        "    user = input('輸入四個數字(不會重複）：')\n",
        "    userint = user\n",
        "    user = list(user)\n",
        "    while len(user)  > 4:\n",
        "      user=input(\"輸入字數過多，請輸入四個數字（不會重複）\")\n",
        "      userint=user\n",
        "      user=list(user)\n",
        "    for i in user :\n",
        "      if int(user[n])==answer[n]:\n",
        "         a+=1\n",
        "      else:\n",
        "         if int(i) in answer:\n",
        "            b+= 1\n",
        "      n+=1\n",
        "    a=str(a)\n",
        "    b=str(b)\n",
        "    out=a+\"A\"+b+\"B\"\n",
        "    print( f\"{userint}\",\":\", out)\n",
        "    a=int(a)\n",
        "    b=int(b)\n",
        "    num+=1\n",
        "print(f\"答對了！總共猜了{num}次\")"
      ]
    }
  ],
  "metadata": {
    "colab": {
      "provenance": []
    },
    "kernelspec": {
      "display_name": "Python 3",
      "name": "python3"
    },
    "language_info": {
      "name": "python"
    }
  },
  "nbformat": 4,
  "nbformat_minor": 0
}