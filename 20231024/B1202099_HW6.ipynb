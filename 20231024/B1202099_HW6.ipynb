{
  "nbformat": 4,
  "nbformat_minor": 0,
  "metadata": {
    "colab": {
      "provenance": []
    },
    "kernelspec": {
      "name": "python3",
      "display_name": "Python 3"
    },
    "language_info": {
      "name": "python"
    }
  },
  "cells": [
    {
      "cell_type": "code",
      "execution_count": null,
      "metadata": {
        "colab": {
          "base_uri": "https://localhost:8080/"
        },
        "id": "n9s2FJJ6igAK",
        "outputId": "666b20fb-d89a-4600-8cb5-51cb8d18e0a7"
      },
      "outputs": [
        {
          "output_type": "stream",
          "name": "stdout",
          "text": [
            "聖誕樹高度:10\n",
            "           \n",
            "          *\n",
            "         ***\n",
            "        *****\n",
            "       *******\n",
            "      *********\n",
            "     ***********\n",
            "    *************\n",
            "   ***************\n",
            "  *****************\n",
            " *******************\n",
            "         ***\n",
            "         ***\n",
            "         ***\n",
            "         ***\n",
            "         ***\n"
          ]
        }
      ],
      "source": [
        "h=int(input(\"聖誕樹高度:\"))\n",
        "h+=1\n",
        "a=2*h-1\n",
        "def tree():\n",
        "  for a in range(h):\n",
        "    print((h-a)*\" \"+(2*a-1)*\"*\")\n",
        "  for b in range(5):\n",
        "    print((h-2)*\" \"+\"***\")\n",
        "tree()"
      ]
    },
    {
      "cell_type": "code",
      "source": [
        "try:\n",
        "    def BMI():\n",
        "       h=float(input(\"身高(公分)\"))\n",
        "       w=float(input(\"體重\"))\n",
        "       m=w/((h/100)**2)\n",
        "       if m < 18.5:\n",
        "          b = \"體位：過輕\"\n",
        "       elif 18.5 <= m and m < 24:\n",
        "          b = \"體位：適中\"\n",
        "       elif 24 <= m and m < 27:\n",
        "          b = \"體位：過重\"\n",
        "       else:\n",
        "          b = \"體位：肥胖\"\n",
        "       m = f\"BMI:{m}\\n{b}\"\n",
        "       return m\n",
        "    m = BMI()\n",
        "    print(m)\n",
        "except:\n",
        "    print(\"輸入內容有誤\")"
      ],
      "metadata": {
        "colab": {
          "base_uri": "https://localhost:8080/"
        },
        "id": "D1RNfxlOra8_",
        "outputId": "6abd7ec0-e8a5-4344-ad15-5574ae1fe6ab"
      },
      "execution_count": 5,
      "outputs": [
        {
          "output_type": "stream",
          "name": "stdout",
          "text": [
            "身高(公分)許清山\n",
            "輸入內容有誤\n"
          ]
        }
      ]
    }
  ]
}