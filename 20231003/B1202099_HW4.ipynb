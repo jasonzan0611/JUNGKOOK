{
  "nbformat": 4,
  "nbformat_minor": 0,
  "metadata": {
    "colab": {
      "provenance": []
    },
    "kernelspec": {
      "name": "python3",
      "display_name": "Python 3"
    },
    "language_info": {
      "name": "python"
    }
  },
  "cells": [
    {
      "cell_type": "code",
      "execution_count": null,
      "metadata": {
        "colab": {
          "base_uri": "https://localhost:8080/"
        },
        "id": "eOCOaPF3BbDq",
        "outputId": "60e1b2b6-fe10-44a1-fa9e-935183591bc0"
      },
      "outputs": [
        {
          "output_type": "stream",
          "name": "stdout",
          "text": [
            "成績：100 50 30 40 20\n",
            "40.0\n"
          ]
        }
      ],
      "source": [
        "a=input('成績：')\n",
        "b=a.split()\n",
        "b[0]=float(b[0])\n",
        "b[1]=float(b[1])\n",
        "b[2]=float(b[2])\n",
        "b[3]=float(b[3])\n",
        "b[4]=float(b[4])\n",
        "b.sort()\n",
        "del b[0]\n",
        "del b[3]\n",
        "c=(b[0]+b[1]+b[2])/3\n",
        "print(c)"
      ]
    },
    {
      "cell_type": "code",
      "source": [
        "a=str(input(\"兩個數字，一個運算符號\"))\n",
        "b=a.split()\n",
        "b[0]=float(b[0])\n",
        "b[2]=float(b[2])\n",
        "if b[1]==\"+\":\n",
        "  c=b[0]+b[2]\n",
        "elif b[1]==\"-\":\n",
        "  c=b[0]-b[2]\n",
        "elif b[1]==\"*\":\n",
        "  c=b[0]*b[2]\n",
        "elif b[1]==\"/\":\n",
        "  c=b[0]/b[2]\n",
        "print(c)"
      ],
      "metadata": {
        "colab": {
          "base_uri": "https://localhost:8080/"
        },
        "id": "xTjNWyUnLaeV",
        "outputId": "5042b146-16c2-4e07-b38b-75556e4cc1fe"
      },
      "execution_count": null,
      "outputs": [
        {
          "output_type": "stream",
          "name": "stdout",
          "text": [
            "兩個數字，一個運算符號8 / 4\n",
            "2.0\n"
          ]
        }
      ]
    },
    {
      "cell_type": "code",
      "source": [
        "a=float(input('年份'))\n",
        "b=a%4\n",
        "c=a%100\n",
        "d=a%400\n",
        "if a <= 1582:\n",
        "    if b==0:\n",
        "       print('閏年')\n",
        "    else:\n",
        "       print('平年')\n",
        "else:\n",
        "    if b==0 and c != 0:\n",
        "       print('閏年')\n",
        "    elif d==0:\n",
        "       print('閏年')\n",
        "    else:\n",
        "       print('平年')\n"
      ],
      "metadata": {
        "colab": {
          "base_uri": "https://localhost:8080/"
        },
        "id": "GU8pemoatXRw",
        "outputId": "8057c13c-acb5-439e-f0aa-e337ab9bcb34"
      },
      "execution_count": null,
      "outputs": [
        {
          "output_type": "stream",
          "name": "stdout",
          "text": [
            "年份1900\n",
            "平年\n"
          ]
        }
      ]
    }
  ]
}