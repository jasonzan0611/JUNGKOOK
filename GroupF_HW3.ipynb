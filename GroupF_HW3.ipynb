{
  "nbformat": 4,
  "nbformat_minor": 0,
  "metadata": {
    "colab": {
      "provenance": []
    },
    "kernelspec": {
      "name": "python3",
      "display_name": "Python 3"
    },
    "language_info": {
      "name": "python"
    }
  },
  "cells": [
    {
      "cell_type": "code",
      "execution_count": 1,
      "metadata": {
        "colab": {
          "base_uri": "https://localhost:8080/"
        },
        "id": "BCkEyD1TZGnT",
        "outputId": "d381adc1-76d2-4d06-f607-a9ba0fef4614"
      },
      "outputs": [
        {
          "output_type": "stream",
          "name": "stdout",
          "text": [
            "Hallo world!My name is Jason.I am a Chang Gumg student.I like to drink bubble milk tea and eat french fries.\n"
          ]
        }
      ],
      "source": [
        "x='Hallo world!My name is Jason.I am a Chang Gumg student.I like to drink bubble milk tea and eat french fries.'\n",
        "print(x)"
      ]
    }
  ]
}
