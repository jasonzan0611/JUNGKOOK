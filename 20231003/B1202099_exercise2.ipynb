{
  "nbformat": 4,
  "nbformat_minor": 0,
  "metadata": {
    "colab": {
      "provenance": []
    },
    "kernelspec": {
      "name": "python3",
      "display_name": "Python 3"
    },
    "language_info": {
      "name": "python"
    }
  },
  "cells": [
    {
      "cell_type": "code",
      "execution_count": null,
      "metadata": {
        "colab": {
          "base_uri": "https://localhost:8080/"
        },
        "id": "rMoT77jJczmi",
        "outputId": "ac37d028-a6ef-4f22-d869-99a32dd2f1c8"
      },
      "outputs": [
        {
          "output_type": "stream",
          "name": "stdout",
          "text": [
            "A\n",
            "['K', 'H', 'U']\n"
          ]
        }
      ],
      "source": [
        "a='C,B,A'\n",
        "b=['F','G','H']\n",
        "c= a.split(\",\")\n",
        "d= c + b\n",
        "d[0]='K'\n",
        "e= d.pop(2)\n",
        "print(e)\n",
        "del d[1:4]\n",
        "d.append('U')\n",
        "print(d)"
      ]
    },
    {
      "cell_type": "code",
      "source": [
        "l = float(input('身高(m)'))\n",
        "m = float(input('體重(kg)'))\n",
        "m /= l**2\n",
        "print('BMI:',m)\n",
        "if m < 18.5 :\n",
        "   print('體位:過輕')\n",
        "elif 18.5 <= m and m < 24 :\n",
        "  print('體位:適中')\n",
        "elif 24 <= m and m <27 :\n",
        "  print('體位:過重')\n",
        "else:\n",
        "  print('體位:肥胖')"
      ],
      "metadata": {
        "colab": {
          "base_uri": "https://localhost:8080/"
        },
        "id": "-PFzduMeltcj",
        "outputId": "0a0c1975-5bef-430e-e0b4-af5e8c892813"
      },
      "execution_count": null,
      "outputs": [
        {
          "output_type": "stream",
          "name": "stdout",
          "text": [
            "身高(m)1.6\n",
            "體重(kg)50\n",
            "BMI: 19.531249999999996\n",
            "體位:適中\n"
          ]
        }
      ]
    }
  ]
}